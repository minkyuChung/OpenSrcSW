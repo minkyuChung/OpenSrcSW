{
 "metadata": {
  "language_info": {
   "codemirror_mode": {
    "name": "ipython",
    "version": 3
   },
   "file_extension": ".py",
   "mimetype": "text/x-python",
   "name": "python",
   "nbconvert_exporter": "python",
   "pygments_lexer": "ipython3",
   "version": "3.9.4"
  },
  "orig_nbformat": 2,
  "kernelspec": {
   "name": "python394jvsc74a57bd09762212edb3cbc0a31ec978c8ccdab45b94e65f1e62c00292f7faaae4a4800d5",
   "display_name": "Python 3.9.4 64-bit"
  }
 },
 "nbformat": 4,
 "nbformat_minor": 2,
 "cells": [
  {
   "cell_type": "code",
   "execution_count": 8,
   "metadata": {},
   "outputs": [],
   "source": [
    "import sys\n",
    "userinput = input()\n",
    "user = userinput.split()\n",
    "\n",
    "# 입력 시 파일 형식도 입력해주셔야 합니다. ex) .txt\n",
    "oFile = open(\"C:/SimpleIR/Project1/\"+user[1],'r',encoding='UTF8')\n",
    "nFile = open(\"C:/SimpleIR/Project1/\"+user[2],'w')\n",
    "\n",
    "data = oFile.read()\n",
    "nFile.write(data)\n",
    "\n",
    "oFile.close()\n",
    "nFile.close()"
   ]
  },
  {
   "cell_type": "code",
   "execution_count": 9,
   "metadata": {},
   "outputs": [
    {
     "output_type": "stream",
     "name": "stdout",
     "text": [
      "# of lines : 3\n# of words : 6\n"
     ]
    }
   ],
   "source": [
    "from os import linesep\n",
    "import sys\n",
    "userinput = input()\n",
    "user = userinput.split()\n",
    "\n",
    "f = open(\"C:/SimpleIR/Project1/\"+user[1],'r',encoding='UTF8')\n",
    "lineNum = 0\n",
    "wordNum = 0\n",
    "\n",
    "while 1:\n",
    "    lines = f.read()\n",
    "    if not lines: break\n",
    "    line = lines.split('\\n')\n",
    "    for l in line:\n",
    "        lineNum += 1\n",
    "    words = lines.split()\n",
    "    for word in words:\n",
    "        wordNum += 1\n",
    "    \n",
    "\n",
    "print(\"# of lines : {}\".format(lineNum))\n",
    "print(\"# of words : {}\".format(wordNum))"
   ]
  }
 ]
}