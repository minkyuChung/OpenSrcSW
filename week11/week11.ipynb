{
 "metadata": {
  "language_info": {
   "codemirror_mode": {
    "name": "ipython",
    "version": 3
   },
   "file_extension": ".py",
   "mimetype": "text/x-python",
   "name": "python",
   "nbconvert_exporter": "python",
   "pygments_lexer": "ipython3",
   "version": "3.9.4"
  },
  "orig_nbformat": 2,
  "kernelspec": {
   "name": "python394jvsc74a57bd09762212edb3cbc0a31ec978c8ccdab45b94e65f1e62c00292f7faaae4a4800d5",
   "display_name": "Python 3.9.4 64-bit"
  }
 },
 "nbformat": 4,
 "nbformat_minor": 2,
 "cells": [
  {
   "cell_type": "code",
   "execution_count": 8,
   "metadata": {},
   "outputs": [],
   "source": [
    "import sys\n",
    "userinput = input()\n",
    "user = userinput.split()\n",
    "\n",
    "# 입력 시 파일 형식도 입력해주셔야 합니다. ex) .txt\n",
    "oFile = open(\"C:/SimpleIR/Project1/\"+user[1],'r',encoding='UTF8')\n",
    "nFile = open(\"C:/SimpleIR/Project1/\"+user[2],'w')\n",
    "\n",
    "data = oFile.read()\n",
    "nFile.write(data)\n",
    "\n",
    "oFile.close()\n",
    "nFile.close()"
   ]
  },
  {
   "cell_type": "code",
   "execution_count": 9,
   "metadata": {},
   "outputs": [
    {
     "output_type": "stream",
     "name": "stdout",
     "text": [
      "# of lines : 3\n# of words : 6\n"
     ]
    }
   ],
   "source": [
    "from os import linesep\n",
    "import sys\n",
    "userinput = input()\n",
    "user = userinput.split()\n",
    "\n",
    "f = open(\"C:/SimpleIR/Project1/\"+user[1],'r',encoding='UTF8')\n",
    "lineNum = 0\n",
    "wordNum = 0\n",
    "\n",
    "while 1:\n",
    "    lines = f.read()\n",
    "    if not lines: break\n",
    "    line = lines.split('\\n')\n",
    "    for l in line:\n",
    "        lineNum += 1\n",
    "    words = lines.split()\n",
    "    for word in words:\n",
    "        wordNum += 1\n",
    "    \n",
    "\n",
    "print(\"# of lines : {}\".format(lineNum))\n",
    "print(\"# of words : {}\".format(wordNum))"
   ]
  },
  {
   "cell_type": "code",
   "execution_count": 15,
   "metadata": {},
   "outputs": [
    {
     "output_type": "stream",
     "name": "stdout",
     "text": [
      "1 + 2 = 3 입니다.\n5 - 1 = 4 입니다.\n2 X 3 = 6 입니다.\n6 / 2 = 3 입니다.\n"
     ]
    }
   ],
   "source": [
    "#-*- coding: cp949 -*-\n",
    "class Calc:\n",
    "    \n",
    "    def sum(self, a, b):\n",
    "        result = a + b\n",
    "        print(\"{0:d} + {1:d} = {2:d} 입니다.\".format(a,b,result))\n",
    "\n",
    "    def sub(self, a, b):\n",
    "        result = a - b\n",
    "        print(\"{0:d} - {1:d} = {2:d} 입니다.\".format(a,b,result))\n",
    "    \n",
    "    def multi(self, a, b):\n",
    "        result = a * b\n",
    "        print(\"{0:d} X {1:d} = {2:d} 입니다.\".format(a,b,result))\n",
    "\n",
    "    def div(self, a, b):\n",
    "        if(b == 0):\n",
    "            print(\"Arithmetic exception\")\n",
    "            return\n",
    "        result = int(a / b)\n",
    "        print(\"{0:d} / {1:d} = {2:d} 입니다.\".format(a,b,result))\n"
   ]
  },
  {
   "cell_type": "code",
   "execution_count": 2,
   "metadata": {},
   "outputs": [
    {
     "output_type": "stream",
     "name": "stderr",
     "text": [
      "'pip'��(��) ���� �Ǵ� �ܺ� ����, ������ �� �ִ� ���α׷�, �Ǵ�\n��ġ ������ �ƴմϴ�.\n"
     ]
    }
   ],
   "source": []
  },
  {
   "cell_type": "code",
   "execution_count": null,
   "metadata": {},
   "outputs": [],
   "source": [
    "inputCalc = input('계산식을 입력해주세요.')\n",
    "factor = inputCalc.split()\n",
    "\n",
    "while True:\n",
    "    if factor[i] == null:\n",
    "        break\n",
    "    if i%2 == 0:\n",
    "        num += factor[i]\n",
    "    else:\n",
    "        op += factor[i]\n",
    "\n",
    "print(\"num: \"+num)\n",
    "print(\"op: \"+op)\n"
   ]
  }
 ]
}