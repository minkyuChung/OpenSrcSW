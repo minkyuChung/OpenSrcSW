{
 "metadata": {
  "language_info": {
   "codemirror_mode": {
    "name": "ipython",
    "version": 3
   },
   "file_extension": ".py",
   "mimetype": "text/x-python",
   "name": "python",
   "nbconvert_exporter": "python",
   "pygments_lexer": "ipython3",
   "version": "3.9.4"
  },
  "orig_nbformat": 2,
  "kernelspec": {
   "name": "python394jvsc74a57bd09762212edb3cbc0a31ec978c8ccdab45b94e65f1e62c00292f7faaae4a4800d5",
   "display_name": "Python 3.9.4 64-bit"
  }
 },
 "nbformat": 4,
 "nbformat_minor": 2,
 "cells": [
  {
   "cell_type": "code",
   "execution_count": 1,
   "metadata": {},
   "outputs": [],
   "source": [
    "#-*- coding: cp949 -*-\n",
    "class CalC:\n",
    "    \n",
    "    def sum(self, a, b):\n",
    "        result = a + b\n",
    "        print(\"{0:d} + {1:d} = {2:d} 입니다.\".format(a,b,result))\n",
    "\n",
    "    def sub(self, a, b):\n",
    "        result = a - b\n",
    "        print(\"{0:d} - {1:d} = {2:d} 입니다.\".format(a,b,result))\n",
    "    \n",
    "    def multi(self, a, b):\n",
    "        result = a * b\n",
    "        print(\"{0:d} X {1:d} = {2:d} 입니다.\".format(a,b,result))\n",
    "\n",
    "    def div(self, a, b):\n",
    "        if(b == 0):\n",
    "            print(\"Arithmetic exception\")\n",
    "            return\n",
    "        result = int(a / b)\n",
    "        print(\"{0:d} / {1:d} = {2:d} 입니다.\".format(a,b,result))"
   ]
  },
  {
   "cell_type": "code",
   "execution_count": null,
   "metadata": {},
   "outputs": [],
   "source": []
  }
 ]
}