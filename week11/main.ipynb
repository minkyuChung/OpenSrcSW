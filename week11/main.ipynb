{
 "metadata": {
  "language_info": {
   "codemirror_mode": {
    "name": "ipython",
    "version": 3
   },
   "file_extension": ".py",
   "mimetype": "text/x-python",
   "name": "python",
   "nbconvert_exporter": "python",
   "pygments_lexer": "ipython3",
   "version": "3.9.4"
  },
  "orig_nbformat": 2,
  "kernelspec": {
   "name": "python394jvsc74a57bd09762212edb3cbc0a31ec978c8ccdab45b94e65f1e62c00292f7faaae4a4800d5",
   "display_name": "Python 3.9.4 64-bit"
  }
 },
 "nbformat": 4,
 "nbformat_minor": 2,
 "cells": [
  {
   "cell_type": "code",
   "execution_count": 1,
   "metadata": {},
   "outputs": [],
   "source": [
    "#!pip install import_ipynb\n",
    "# 실습 #8"
   ]
  },
  {
   "cell_type": "code",
   "execution_count": 2,
   "metadata": {},
   "outputs": [],
   "source": [
    "import import_ipynb"
   ]
  },
  {
   "cell_type": "code",
   "execution_count": 3,
   "metadata": {},
   "outputs": [
    {
     "output_type": "stream",
     "name": "stdout",
     "text": [
      "importing Jupyter notebook from class_ex.ipynb\n"
     ]
    }
   ],
   "source": [
    "from class_ex import CalC"
   ]
  },
  {
   "cell_type": "code",
   "execution_count": 4,
   "metadata": {},
   "outputs": [],
   "source": [
    "calc = CalC()"
   ]
  },
  {
   "cell_type": "code",
   "execution_count": 5,
   "metadata": {},
   "outputs": [
    {
     "output_type": "stream",
     "name": "stdout",
     "text": [
      "3 + 3 = 6 입니다.\n"
     ]
    }
   ],
   "source": [
    "calc.sum(3,3)"
   ]
  },
  {
   "cell_type": "code",
   "execution_count": 6,
   "metadata": {},
   "outputs": [
    {
     "output_type": "stream",
     "name": "stdout",
     "text": [
      "5 - 1 = 4 입니다.\n2 X 3 = 6 입니다.\n"
     ]
    }
   ],
   "source": [
    "calc.sub(5,1)\n",
    "calc.multi(2,3)\n"
   ]
  },
  {
   "cell_type": "code",
   "execution_count": 7,
   "metadata": {},
   "outputs": [
    {
     "output_type": "stream",
     "name": "stdout",
     "text": [
      "6 / 2 = 3 입니다.\n"
     ]
    }
   ],
   "source": [
    "calc.div(6,2)"
   ]
  },
  {
   "cell_type": "code",
   "execution_count": 8,
   "metadata": {},
   "outputs": [],
   "source": [
    "# 실습#9"
   ]
  },
  {
   "cell_type": "code",
   "execution_count": 1,
   "metadata": {},
   "outputs": [],
   "source": [
    "import import_ipynb"
   ]
  },
  {
   "cell_type": "code",
   "execution_count": 2,
   "metadata": {},
   "outputs": [
    {
     "output_type": "stream",
     "name": "stdout",
     "text": [
      "importing Jupyter notebook from stack.ipynb\n"
     ]
    }
   ],
   "source": [
    "from stack import Stack"
   ]
  },
  {
   "cell_type": "code",
   "execution_count": 3,
   "metadata": {},
   "outputs": [],
   "source": [
    "num = Stack()\n",
    "op = Stack()"
   ]
  },
  {
   "cell_type": "code",
   "execution_count": 6,
   "metadata": {},
   "outputs": [
    {
     "output_type": "stream",
     "name": "stdout",
     "text": [
      "1\n-\n3\n-\n1\n"
     ]
    },
    {
     "output_type": "error",
     "ename": "IndexError",
     "evalue": "pop from empty list",
     "traceback": [
      "\u001b[1;31m---------------------------------------------------------------------------\u001b[0m",
      "\u001b[1;31mIndexError\u001b[0m                                Traceback (most recent call last)",
      "\u001b[1;32m<ipython-input-6-745c2245f4ec>\u001b[0m in \u001b[0;36m<module>\u001b[1;34m\u001b[0m\n\u001b[0;32m     34\u001b[0m         \u001b[0mflag\u001b[0m \u001b[1;33m=\u001b[0m \u001b[1;32mFalse\u001b[0m\u001b[1;33m\u001b[0m\u001b[1;33m\u001b[0m\u001b[0m\n\u001b[0;32m     35\u001b[0m \u001b[0mprint\u001b[0m\u001b[1;33m(\u001b[0m\u001b[0mnum\u001b[0m\u001b[1;33m.\u001b[0m\u001b[0mpop\u001b[0m\u001b[1;33m(\u001b[0m\u001b[1;33m)\u001b[0m\u001b[1;33m)\u001b[0m\u001b[1;33m\u001b[0m\u001b[1;33m\u001b[0m\u001b[0m\n\u001b[1;32m---> 36\u001b[1;33m \u001b[0mprint\u001b[0m\u001b[1;33m(\u001b[0m\u001b[0mop\u001b[0m\u001b[1;33m.\u001b[0m\u001b[0mpop\u001b[0m\u001b[1;33m(\u001b[0m\u001b[1;33m)\u001b[0m\u001b[1;33m)\u001b[0m\u001b[1;33m\u001b[0m\u001b[1;33m\u001b[0m\u001b[0m\n\u001b[0m\u001b[0;32m     37\u001b[0m \u001b[0mprint\u001b[0m\u001b[1;33m(\u001b[0m\u001b[0mnum\u001b[0m\u001b[1;33m.\u001b[0m\u001b[0mpop\u001b[0m\u001b[1;33m(\u001b[0m\u001b[1;33m)\u001b[0m\u001b[1;33m)\u001b[0m\u001b[1;33m\u001b[0m\u001b[1;33m\u001b[0m\u001b[0m\n\u001b[0;32m     38\u001b[0m \u001b[1;32mwhile\u001b[0m \u001b[0mop\u001b[0m\u001b[1;33m.\u001b[0m\u001b[0misEmpty\u001b[0m\u001b[1;33m(\u001b[0m\u001b[1;33m)\u001b[0m \u001b[1;33m==\u001b[0m \u001b[1;32mFalse\u001b[0m\u001b[1;33m:\u001b[0m\u001b[1;33m\u001b[0m\u001b[1;33m\u001b[0m\u001b[0m\n",
      "\u001b[1;32mc:\\SimpleIR\\Project1\\week11\\stack.ipynb\u001b[0m in \u001b[0;36mpop\u001b[1;34m(self)\u001b[0m\n",
      "\u001b[1;31mIndexError\u001b[0m: pop from empty list"
     ]
    }
   ],
   "source": [
    "inputCalc = input('계산식을 입력해주세요.')\n",
    "factor = inputCalc.split(' ')\n",
    "temp = []\n",
    "# 거꾸로 저장\n",
    "for cnt in range(0,len(factor)):\n",
    "    temp.append(factor[len(factor)-cnt-1])\n",
    "flag = False\n",
    "\n",
    "i = 0\n",
    "for x in temp:\n",
    "    # 곱셈, 나눗셈은 우선 실시\n",
    "    if x =='*' or x =='/':\n",
    "        op.push(x)\n",
    "        i += 1\n",
    "        flag = True\n",
    "        continue\n",
    "\n",
    "    # 숫자 저장\n",
    "    if i % 2 == 0:\n",
    "        i += 1\n",
    "        num.push(x)\n",
    "    # 연산자 저장\n",
    "    elif i % 2 == 1:\n",
    "        op.push(x)\n",
    "        i += 1\n",
    "    \n",
    "    # 곱셈 나눗셈 우선 실시\n",
    "    if flag == True:\n",
    "        num1 = int(num.pop())\n",
    "        num2 = int(num.pop())\n",
    "        op1 = op.pop()\n",
    "        if op1 == '*':\n",
    "            num.push(num1*num2)\n",
    "        else:\n",
    "            num.push(num1/num2)\n",
    "        flag = False\n",
    "# 나머지 연산 실시        \n",
    "while op.isEmpty() == False:\n",
    "    num1 = int(num.pop())\n",
    "    num2 = int(num.pop())\n",
    "    print(num1)\n",
    "    print(num2)\n",
    "    op1 = op.pop()\n",
    "    if num1 < 0 or num2 < 0:\n",
    "        num.push(num2-num1)\n",
    "    num.push(num1+num2)\n",
    "\n",
    "print(num.pop())"
   ]
  },
  {
   "cell_type": "code",
   "execution_count": null,
   "metadata": {},
   "outputs": [],
   "source": []
  }
 ]
}