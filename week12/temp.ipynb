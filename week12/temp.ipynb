{
 "metadata": {
  "language_info": {
   "codemirror_mode": {
    "name": "ipython",
    "version": 3
   },
   "file_extension": ".py",
   "mimetype": "text/x-python",
   "name": "python",
   "nbconvert_exporter": "python",
   "pygments_lexer": "ipython3",
   "version": "3.9.4"
  },
  "orig_nbformat": 2,
  "kernelspec": {
   "name": "python394jvsc74a57bd09762212edb3cbc0a31ec978c8ccdab45b94e65f1e62c00292f7faaae4a4800d5",
   "display_name": "Python 3.9.4 64-bit"
  }
 },
 "nbformat": 4,
 "nbformat_minor": 2,
 "cells": [
  {
   "cell_type": "code",
   "execution_count": 1,
   "metadata": {},
   "outputs": [
    {
     "output_type": "stream",
     "name": "stdout",
     "text": [
      "2020년 서울의 일교차가 가장 컸던 날은 2020-05-06로, 16.5 도 였습니다.\n2020년 서울의 최저 기온이 가장 낮았던 날은 2020-12-30로, -12.9 도 였습니다.\n2020년 서울의 최고 기온이 가장 높았던 날은 2020-06-22로, 35.4 도 였습니다.\n"
     ]
    }
   ],
   "source": [
    "import csv\n",
    "f = open('C:/Users/mink9/OneDrive/바탕 화면/오픈소스SW입문/seoul.csv','r',encoding = 'cp949')\n",
    "data = csv.reader(f)\n",
    "header = next(data)\n",
    "min_temp = 999\n",
    "min_date = ''\n",
    "\n",
    "max_temp = -999\n",
    "max_date = ''\n",
    "\n",
    "max_diff = 0\n",
    "diff_date = ''\n",
    "\n",
    "for row in data:\n",
    "    if row[-1] =='':\n",
    "        row[-1] = -999\n",
    "    elif row[-2] =='':\n",
    "        row[-2] = 999\n",
    "    row[-2] = float(row[-2])\n",
    "    row[-1] = float(row[-1])\n",
    "    if max_temp < row[-1]:\n",
    "        max_date = row[0]\n",
    "        max_temp = row[-1]\n",
    "    if min_temp > row[-2]:\n",
    "        min_date = row[0]\n",
    "        min_temp = row[-2]\n",
    "    if row[-1]-row[-2] > max_diff:\n",
    "        diff_date = row[0]\n",
    "        max_diff = row[-1]-row[-2] \n",
    "f.close()\n",
    "print('2020년 서울의 일교차가 가장 컸던 날은',diff_date+'로,',max_diff,'도 였습니다.')\n",
    "print('2020년 서울의 최저 기온이 가장 낮았던 날은',min_date+'로,',min_temp,'도 였습니다.')\n",
    "print('2020년 서울의 최고 기온이 가장 높았던 날은',max_date+'로,',max_temp,'도 였습니다.')"
   ]
  },
  {
   "cell_type": "code",
   "execution_count": 6,
   "metadata": {
    "tags": []
   },
   "outputs": [
    {
     "output_type": "stream",
     "name": "stdout",
     "text": [
      "1호선\n1. 서울역( 1639892 )\n2. 종각( 1309829 )\n3. 종로3가( 943527 )\n2호선\n1. 강남( 3167883 )\n2. 신림( 2799927 )\n3. 잠실(송파구청)( 2669433 )\n3호선\n1. 고속터미널( 1746144 )\n2. 양재(서초구청)( 1639852 )\n3. 연신내( 1630047 )\n4호선\n1. 수유(강북구청)( 1538536 )\n2. 쌍문( 1282986 )\n3. 미아사거리( 1241073 )\n경부선\n1. 영등포( 1712414 )\n2. 수원( 1500489 )\n3. 용산( 1341463 )\n경인선\n1. 부천( 1495296 )\n2. 부평( 1346383 )\n3. 역곡( 1197906 )\n경원선\n1. 의정부( 814899 )\n2. 청량리(서울시립대입구)( 639694 )\n3. 왕십리(성동구청)( 614608 )\n안산선\n1. 상록수( 727908 )\n2. 중앙( 714234 )\n3. 산본( 698124 )\n과천선\n1. 범계( 1058533 )\n2. 인덕원( 1019046 )\n3. 평촌( 742345 )\n분당선\n1. 야탑( 1100531 )\n2. 서현( 1023453 )\n3. 모란( 909151 )\n일산선\n1. 삼송( 774332 )\n2. 화정( 725658 )\n3. 대화( 500508 )\n중앙선\n1. 회기( 1001485 )\n2. 구리( 585146 )\n3. 도농( 400570 )\n장항선\n1. 온양온천( 161235 )\n2. 아산( 118077 )\n3. 쌍용(나사렛대)( 81797 )\n경의선\n1. 일산( 381097 )\n2. 행신( 321438 )\n3. 탄현( 308088 )\n경춘선\n1. 평내호평( 248617 )\n2. 마석( 162475 )\n3. 퇴계원( 152076 )\n수인선\n1. 인천논현( 241320 )\n2. 인하대( 241139 )\n3. 소래포구( 206516 )\n경강선\n1. 경기광주( 284699 )\n2. 판교( 179677 )\n3. 초월( 124634 )\n5호선\n1. 까치산( 1268756 )\n2. 광화문(세종문화회관)( 1218113 )\n3. 화곡( 1213929 )\n6호선\n1. 응암( 783532 )\n2. 공덕( 740299 )\n3. 망원( 620819 )\n7호선\n1. 가산디지털단지( 1964995 )\n2. 학동( 1045919 )\n3. 광명사거리( 1031881 )\n8호선\n1. 문정( 920401 )\n2. 암사( 792715 )\n3. 장지( 755265 )\n9호선\n1. 신논현( 1240544 )\n2. 노량진( 1017044 )\n3. 여의도( 891114 )\n공항철도 1호선\n1. 디지털미디어시티( 510128 )\n2. 계양( 383313 )\n3. 김포공항( 373367 )\n9호선2~3단계\n1. 봉은사( 628382 )\n2. 언주( 415847 )\n3. 선정릉( 392464 )\n우이신설선\n1. 북한산보국문( 251118 )\n2. 솔샘( 236299 )\n3. 정릉( 188559 )\n"
     ]
    }
   ],
   "source": [
    "import csv\n",
    "\n",
    "\n",
    "line = ['1호선','2호선','3호선','4호선','경부선','경인선','경원선','안산선','과천선','분당선','일산선','중앙선','장항선',               '경의선','경춘선','수인선','경강선','5호선','6호선','7호선','8호선','9호선','공항철도 1호선','9호선2~3단계',                   '우이신설선']\n",
    "for i in range(0,len(line)):\n",
    "    f = open('C:/Users/mink9/OneDrive/바탕 화면/오픈소스SW입문/subwaypeople.csv','rt',encoding = 'UTF8')\n",
    "    data = csv.reader(f)\n",
    "    first = 0\n",
    "    first_st = ''\n",
    "    second = 0\n",
    "    second_st = ''\n",
    "    third = 0 \n",
    "    third_st = ''    \n",
    "    for row in data:\n",
    "        if row[1] == line[i]:\n",
    "            row[4] = int(row[4].replace(',',''))\n",
    "            row[5] = int(row[5].replace(',',''))\n",
    "            #----- 3등 자리 탈환\n",
    "            if row[4]+row[5] > third:\n",
    "                third = row[4]+row[5]\n",
    "                third_st = row[3]\n",
    "                #----- 2등 자리 탈환\n",
    "                if third > second:\n",
    "                    third = second\n",
    "                    second = row[4]+row[5]\n",
    "                    third_st = second_st\n",
    "                    second_st = row[3]\n",
    "                    #----- 1등 자리 탈환\n",
    "                    if second > first:\n",
    "                        second = first\n",
    "                        first = row[4]+row[5]\n",
    "                        second_st = first_st\n",
    "                        first_st = row[3]\n",
    "    print(line[i])\n",
    "    print(\"1. \"+first_st+\"(\",first,\")\")\n",
    "    print(\"2. \"+second_st+\"(\",second,\")\")\n",
    "    print(\"3. \"+third_st+\"(\",third,\")\")\n",
    "    f.close()\n",
    "    "
   ]
  },
  {
   "cell_type": "code",
   "execution_count": 23,
   "metadata": {},
   "outputs": [
    {
     "output_type": "stream",
     "name": "stdout",
     "text": [
      "423235\n"
     ]
    }
   ],
   "source": [
    "r = '423,234'\n",
    "r = int(r.replace(',',''))\n",
    "print(1 + r)"
   ]
  },
  {
   "cell_type": "code",
   "execution_count": null,
   "metadata": {},
   "outputs": [],
   "source": []
  }
 ]
}