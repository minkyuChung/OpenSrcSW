{
 "metadata": {
  "language_info": {
   "codemirror_mode": {
    "name": "ipython",
    "version": 3
   },
   "file_extension": ".py",
   "mimetype": "text/x-python",
   "name": "python",
   "nbconvert_exporter": "python",
   "pygments_lexer": "ipython3",
   "version": "3.9.4"
  },
  "orig_nbformat": 2,
  "kernelspec": {
   "name": "python394jvsc74a57bd09762212edb3cbc0a31ec978c8ccdab45b94e65f1e62c00292f7faaae4a4800d5",
   "display_name": "Python 3.9.4 64-bit"
  }
 },
 "nbformat": 4,
 "nbformat_minor": 2,
 "cells": [
  {
   "cell_type": "code",
   "execution_count": 3,
   "metadata": {},
   "outputs": [
    {
     "output_type": "stream",
     "name": "stdout",
     "text": [
      "30\n"
     ]
    }
   ],
   "source": [
    "str = input(\"Numbers?\")\n",
    "tmp = str.split()\n",
    "max = 0\n",
    "for i in range(len(tmp)):\n",
    "    temp = int(tmp[i])\n",
    "    max = temp if temp>max else max\n",
    "    \n",
    "print(max)"
   ]
  },
  {
   "cell_type": "code",
   "execution_count": 22,
   "metadata": {},
   "outputs": [
    {
     "output_type": "stream",
     "name": "stdout",
     "text": [
      "abc def \n"
     ]
    }
   ],
   "source": [
    "str1 = input(\"Password:\")\n",
    "tmp = str1.split()\n",
    "change = []\n",
    "sel = input(\"1) Encryption 2) Decryption\")\n",
    "if sel == \"1\":\n",
    "    for i in range(len(tmp)-1,-1,-1):\n",
    "        for j in range(len(tmp[i])):\n",
    "            change.append(chr(ord(tmp[i][j])+1))\n",
    "        change.append(' ')\n",
    "    print(''.join(change))\n",
    "elif sel == \"2\":\n",
    "    for i in range(len(tmp)-1,-1,-1):\n",
    "        for j in range(len(tmp[i])):\n",
    "            change.append(chr(ord(tmp[i][j])-1))\n",
    "        change.append(' ')\n",
    "    print(''.join(change))\n"
   ]
  },
  {
   "cell_type": "code",
   "execution_count": 25,
   "metadata": {},
   "outputs": [
    {
     "output_type": "stream",
     "name": "stdout",
     "text": [
      "2\n"
     ]
    }
   ],
   "source": [
    "id = []\n",
    "pnum = []\n",
    "for i in range(10):\n",
    "    id.append(input(\"이름: \"))\n",
    "    pnum.append(input(\"전화번호: \"))\n",
    "\n",
    "question = input(\"1.이름  2.전화번호\")\n",
    "if question == \"1\":\n",
    "    name = input(\"이름을 입력하세요.\")\n",
    "    for idx in range(10):\n",
    "        if id[idx]==name:\n",
    "            print(pnum[idx])\n",
    "elif question == \"2\":\n",
    "    num = input(\"전화번호를 입력하세요.\")\n",
    "    for idx in range(10):\n",
    "        if pnum[idx]==num:\n",
    "            print(id[idx])\n"
   ]
  },
  {
   "cell_type": "code",
   "execution_count": null,
   "metadata": {},
   "outputs": [],
   "source": []
  }
 ]
}